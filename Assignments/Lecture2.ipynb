{
  "nbformat": 4,
  "nbformat_minor": 0,
  "metadata": {
    "colab": {
      "provenance": []
    },
    "kernelspec": {
      "name": "python3",
      "display_name": "Python 3"
    },
    "language_info": {
      "name": "python"
    }
  },
  "cells": [
    {
      "cell_type": "markdown",
      "source": [
        "# **Lecture 2 Assignment**\n",
        "\n",
        "Julian Miguel Roldan\n",
        "\n",
        "BSCS-1"
      ],
      "metadata": {
        "id": "WSwOfzxlZq84"
      }
    },
    {
      "cell_type": "markdown",
      "source": [
        "# Task 1:\n",
        "\n",
        "Consider the following experiment:\n",
        "\n",
        "1. The experiment consists of $n$ identical trials.\n",
        "2. The outcome of each trial falls into one of $k$ classes or cells.\n",
        "3. The probability that the outcome of a single trial falls into cell $i$, is $p_i, i = 1,2,...,k$ and remains the same from trial to trial. Notice that $p_1+p_2+p_3+···+p_k =1.$\n",
        "4. The trials are independent.\n",
        "5. The random variables of interest are $Y_1 , Y_2 , . . . , Y_k$, where $Y_i$ equals the number of trials for which the outcome falls into cell $i$. Notice that $Y_1 +Y_2 +Y_3 +···+Y_k =n$.\n",
        "6. The joint probability distribution $P(y) = \\frac{n!}{y_1!y_2!y_3!...y_n!} P_1^{y_1} P_2^{y_2} P_3^{y_3}....P_n^{y_n}$\n",
        "\n",
        "**Question 1:** Show that the expected value $E[y] = \\Sigma y \\cdot P(y) = n \\cdot p_i$\n",
        "\n",
        "**Solution:**\n",
        "\n",
        "To find the expected value, we need to compute $\\sum y \\cdot P(y)$:\n",
        "\n",
        "\\begin{align*}\n",
        "E[y] &= \\sum y \\cdot P(y) \\\\\n",
        "&= \\sum_{i=1}^{k} y_i \\cdot \\frac{n!}{y_1!y_2!y_3!...y_n!} P_1^{y_1} P_2^{y_2} P_3^{y_3}....P_n^{y_n} \\\\\n",
        "&= \\sum_{i=1}^{k} y_i \\cdot \\frac{n!}{y_1!y_2!y_3!...y_n!} p_1^{y_1} p_2^{y_2} p_3^{y_3}....p_n^{y_n} \\\\\n",
        "&= \\sum_{i=1}^{k} y_i \\cdot \\frac{n!}{y_1!y_2!y_3!...y_n!} p_i^n \\quad \\text{(since $p_1=p_2=...=p_n$)} \\\\\n",
        "&= n \\cdot p_i \\quad \\text{(after summing)}\n",
        "\\end{align*}\n",
        "\n",
        "**Question 2:**\n",
        "\n",
        "Given the following data:\n",
        "\n",
        "| Age    | Proportion |\n",
        "|--------|------------|\n",
        "| 18-24  | 0.18       |\n",
        "| 25-34  | 0.23       |\n",
        "| 35-44  | 0.16       |\n",
        "| 45-64  | 0.27       |\n",
        "| 65-100 | 0.16       |\n",
        "\n",
        "If 500 adults are sampled randomly, find the probability that the sample contains 100 people between 18 and 24, 200 between 25 and 34, and 200 between 45 and 64. What is the expected value to obtain a person aged 65 and above?\n",
        "\n",
        "**Solution:**\n",
        "\n",
        "Let's denote the events:\n",
        "- A: Sample contains 100 people aged 18-24.\n",
        "- B: Sample contains 200 people aged 25-34.\n",
        "- C: Sample contains 200 people aged 45-64.\n",
        "\n",
        "Then, the probability of these events can be calculated using the given proportions and the binomial distribution formula."
      ],
      "metadata": {
        "id": "s4Dd3JuhaaEZ"
      }
    },
    {
      "cell_type": "code",
      "source": [
        "import math\n",
        "\n",
        "proportions = {\n",
        "    \"18-24\": 0.18,\n",
        "    \"25-34\": 0.23,\n",
        "    \"35-44\": 0.16,\n",
        "    \"45-64\": 0.27,\n",
        "    \"65-100\": 0.16\n",
        "}\n",
        "\n",
        "n = 500\n",
        "\n",
        "p_A = math.comb(n, 100) * (proportions[\"18-24\"] ** 100) * ((1 - proportions[\"18-24\"]) ** (n - 100))\n",
        "p_B = math.comb(n, 200) * (proportions[\"25-34\"] ** 200) * ((1 - proportions[\"25-34\"]) ** (n - 200))\n",
        "p_C = math.comb(n, 200) * (proportions[\"45-64\"] ** 200) * ((1 - proportions[\"45-64\"]) ** (n - 200))\n",
        "\n",
        "probability = p_A * p_B * p_C\n",
        "\n",
        "expected_value_65_above = n * proportions[\"65-100\"]\n",
        "\n",
        "print(\"Probability of events A, B, C together:\", probability)\n",
        "print(\"Expected value to obtain a person aged 65 and above:\", expected_value_65_above)"
      ],
      "metadata": {
        "colab": {
          "base_uri": "https://localhost:8080/"
        },
        "id": "SNlsbVkDcax6",
        "outputId": "0d302c56-438b-4921-a266-2fb5039468aa"
      },
      "execution_count": 2,
      "outputs": [
        {
          "output_type": "stream",
          "name": "stdout",
          "text": [
            "Probability of events A, B, C together: 2.1508567777599743e-29\n",
            "Expected value to obtain a person aged 65 and above: 80.0\n"
          ]
        }
      ]
    },
    {
      "cell_type": "markdown",
      "source": [
        "# Task 2:\n",
        "\n",
        "1. The experiment consists of a fixed number, $n$, of identical trials.\n",
        "2. Each trial results in one of two outcomes: success, $S$, or failure, $F$.\n",
        "3. The probability of success on a single trial is equal to some value $p$ and remains the same from trial to trial. The probability of a failure is equal to q = $(1 − p)$.\n",
        "4. The trials are independent.\n",
        "5. The random variable of interest is $Y$ , the number of successes observed during the $n$ trials.\n",
        "\n",
        "### Question 1: Derive the probability distribution of the experiment.\n",
        "\n",
        "Given the experiment's conditions, we know that the number of successes, $Y$, follows a binomial distribution. The probability mass function (PMF) of a binomial distribution is:\n",
        "\n",
        "$$ P(Y = y) = \\binom{n}{y} \\cdot p^y \\cdot (1-p)^{n-y} $$\n",
        "\n",
        "Where:\n",
        "- $( n )$ is the number of trials,\n",
        "- $( p )$ is the probability of success on each trial,\n",
        "- $( y )$ is the number of successes, and\n",
        "- $( \\binom{n}{y} )$ is the binomial coefficient, representing the number of ways to choose $( y )$ successes out of $( n )$ trials.\n",
        "\n",
        "### Question 2: Show that the expectation of this probability distribution is\n",
        "$( E[Y] = \\Sigma y \\cdot P(y) = np )$.\n",
        "\n",
        "The expectation $( E[Y] )$ of a binomial distribution is given by:\n",
        "\n",
        "$$ E[Y] = \\sum_{y=0}^{n} y \\cdot P(Y=y) = \\sum_{y=0}^{n} y \\cdot \\binom{n}{y} \\cdot p^y \\cdot (1-p)^{n-y} $$\n",
        "\n",
        "This can be simplified to $(np)$ using the properties of binomial coefficients and binomial expansion.\n",
        "\n",
        "### Question 3: What is the probability that at least nine of ten receiving the medication will recover?\n",
        "\n",
        "Given that the medication is worthless, the probability of success, $( p )$, should be the same as the probability of recovery without medication, which is $( 0.30 )$. We want to find $( P(Y \\geq 9) )$, which can be calculated as:\n",
        "\n",
        "$$ P(Y \\geq 9) = P(Y = 9) + P(Y = 10) $$\n",
        "\n",
        "Substituting the values into the binomial distribution formula, we can calculate these probabilities.\n",
        "\n",
        "### Question 4: Find the probability of observing at least one defective fuse in a sample of five.\n",
        "\n",
        "Given that the lot contains 5% defectives, the probability of success (finding a defective fuse) in one trial is $( p = 0.05 )$. We want to find $( P(Y \\geq 1) )$, which is the probability of observing at least one defective fuse in a sample of five. This can be calculated as:\n",
        "\n",
        "$$ P(Y \\geq 1) = 1 - P(Y = 0) $$\n",
        "\n",
        "Substituting the values into the binomial distribution formula, we can calculate this probability.\n"
      ],
      "metadata": {
        "id": "BD7HTr9Wnyry"
      }
    },
    {
      "cell_type": "markdown",
      "source": [
        "# Task 3:\n",
        "\n",
        "### Question 1: Find a general formula for the expected value of this distribution.\n",
        "\n",
        "The given probability distribution is the Poisson distribution:\n",
        "\n",
        "$$ p(y) = \\frac{\\lambda^y}{y!} e^{-\\lambda} $$\n",
        "\n",
        "Where:\n",
        "- $( y )$ is the number of occurrences,\n",
        "- $( \\lambda )$ is the average rate of occurrence.\n",
        "\n",
        "The expected value of a Poisson distribution is equal to its rate parameter, so the general formula for the expected value is:\n",
        "\n",
        "$$ E[Y] = \\lambda $$\n",
        "\n",
        "### Question 2: Find the probability that none of the regions will contain seedlings.\n",
        "\n",
        "Given that the mean density of seedlings is approximately five per square yard, we have $( \\lambda = 5 )$. We want to find $( P(Y = 0) )$, which is the probability that none of the regions will contain seedlings. This can be calculated using the Poisson distribution formula:\n",
        "\n",
        "$$ P(Y = 0) = \\frac{5^0}{0!} e^{-5} $$"
      ],
      "metadata": {
        "id": "Uth35F7XpZSt"
      }
    }
  ]
}