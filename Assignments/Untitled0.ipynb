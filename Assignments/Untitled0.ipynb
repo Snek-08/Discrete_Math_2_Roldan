{
  "nbformat": 4,
  "nbformat_minor": 0,
  "metadata": {
    "colab": {
      "provenance": []
    },
    "kernelspec": {
      "name": "python3",
      "display_name": "Python 3"
    },
    "language_info": {
      "name": "python"
    }
  },
  "cells": [
    {
      "cell_type": "code",
      "execution_count": 1,
      "metadata": {
        "colab": {
          "base_uri": "https://localhost:8080/"
        },
        "id": "GGI0-ICaNVg8",
        "outputId": "496fb980-ad9f-454f-ba3c-af9d106b65bf"
      },
      "outputs": [
        {
          "output_type": "stream",
          "name": "stdout",
          "text": [
            "hello world\n"
          ]
        }
      ],
      "source": [
        "print(\"hello world\")"
      ]
    },
    {
      "cell_type": "markdown",
      "source": [
        "Lecture 1 Assignment\n",
        "\n",
        "Julian Miguel Roldan\n",
        "\n",
        "BSCS-1"
      ],
      "metadata": {
        "id": "_OzI-ydkOIAi"
      }
    }
  ]
}